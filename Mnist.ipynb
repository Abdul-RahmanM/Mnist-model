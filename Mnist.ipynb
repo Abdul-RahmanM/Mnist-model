{
  "nbformat": 4,
  "nbformat_minor": 0,
  "metadata": {
    "colab": {
      "provenance": [],
      "authorship_tag": "ABX9TyOz2nrLahbHX8/p8HZIY+mY",
      "include_colab_link": true
    },
    "kernelspec": {
      "name": "python3",
      "display_name": "Python 3"
    },
    "language_info": {
      "name": "python"
    },
    "accelerator": "GPU",
    "gpuClass": "standard"
  },
  "cells": [
    {
      "cell_type": "markdown",
      "metadata": {
        "id": "view-in-github",
        "colab_type": "text"
      },
      "source": [
        "<a href=\"https://colab.research.google.com/github/AbdulWasTaken/Mnist-model/blob/main/Mnist.ipynb\" target=\"_parent\"><img src=\"https://colab.research.google.com/assets/colab-badge.svg\" alt=\"Open In Colab\"/></a>"
      ]
    },
    {
      "cell_type": "code",
      "source": [
        "# Imports\n",
        "import tensorflow as tf\n",
        "import matplotlib.pyplot as plt\n",
        "import cv2"
      ],
      "metadata": {
        "id": "fsD9kAmNbCmJ"
      },
      "execution_count": 8,
      "outputs": []
    },
    {
      "cell_type": "code",
      "execution_count": 4,
      "metadata": {
        "id": "xT7AeQkja5WA"
      },
      "outputs": [],
      "source": [
        "# Load CNN model that has been trained in Mnist-ModelCreation\n",
        "model = tf.keras.models.load_model(\"Mnist_model.h5\")"
      ]
    },
    {
      "cell_type": "code",
      "source": [
        "# Clean image and convert to proper format for model\n",
        "def prepare_image(image_path):\n",
        "  image = cv2.imread(image_path)\n",
        "  image = tf.image.resize(image, (28, 28))\n",
        "  image = (tf.cast(tf.image.rgb_to_grayscale(image), tf.float32)) / 255. # Normalize, grayscale, and cast image\n",
        "  return image"
      ],
      "metadata": {
        "id": "6HbKAQ4ubMwK"
      },
      "execution_count": 25,
      "outputs": []
    },
    {
      "cell_type": "code",
      "source": [
        "# Pass Image path here\n",
        "image = prepare_image(\"Num3.png\")"
      ],
      "metadata": {
        "id": "bQj26VHscN0L"
      },
      "execution_count": 31,
      "outputs": []
    },
    {
      "cell_type": "code",
      "source": [
        "# Pred and plot\n",
        "pred_probs = model.predict(tf.expand_dims(image, axis=0))\n",
        "pred = pred_probs.argmax()\n",
        "\n",
        "plt.imshow(tf.squeeze(image), cmap=\"gray\")\n",
        "plt.axis(False)\n",
        "plt.title(f\"Predicted Number: {pred}\" );"
      ],
      "metadata": {
        "colab": {
          "base_uri": "https://localhost:8080/",
          "height": 281
        },
        "id": "sBw4DJXhdXjJ",
        "outputId": "ccfa635b-dd8d-431b-f8a5-2bd94b9ce0a8"
      },
      "execution_count": 32,
      "outputs": [
        {
          "output_type": "stream",
          "name": "stdout",
          "text": [
            "1/1 [==============================] - 0s 33ms/step\n"
          ]
        },
        {
          "output_type": "display_data",
          "data": {
            "text/plain": [
              "<Figure size 432x288 with 1 Axes>"
            ],
            "image/png": "[encoded data removed]"
          },
          "metadata": {
            "needs_background": "light"
          }
        }
      ]
    }
  ]
}