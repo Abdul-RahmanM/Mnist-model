{
  "nbformat": 4,
  "nbformat_minor": 0,
  "metadata": {
    "colab": {
      "provenance": [],
      "mount_file_id": "1LVNF8sSkYohiswkW52fpdzfQ8DdsXz9Z",
      "authorship_tag": "ABX9TyOG7ik4hrE6CJ4xYMhjIjPA",
      "include_colab_link": true
    },
    "kernelspec": {
      "name": "python3",
      "display_name": "Python 3"
    },
    "language_info": {
      "name": "python"
    },
    "accelerator": "GPU",
    "gpuClass": "standard"
  },
  "cells": [
    {
      "cell_type": "markdown",
      "metadata": {
        "id": "view-in-github",
        "colab_type": "text"
      },
      "source": [
        "<a href=\"https://colab.research.google.com/github/AbdulWasTaken/Mnist-model/blob/main/Project.ipynb\" target=\"_parent\"><img src=\"https://colab.research.google.com/assets/colab-badge.svg\" alt=\"Open In Colab\"/></a>"
      ]
    },
    {
      "cell_type": "code",
      "execution_count": 1,
      "metadata": {
        "id": "ZK0UXDkxFpo3"
      },
      "outputs": [],
      "source": [
        "# Imports\n",
        "import tensorflow as tf\n",
        "import tensorflow_datasets as tfds\n",
        "import pandas as pd\n",
        "import matplotlib.pyplot as plt\n",
        "import random"
      ]
    },
    {
      "cell_type": "code",
      "source": [
        "from os import sched_getscheduler\n",
        "# Load the data\n",
        "(x_train, y_train), (x_test, y_test) = tf.keras.datasets.mnist.load_data()"
      ],
      "metadata": {
        "id": "Q0kVh2l1Gyj8",
        "colab": {
          "base_uri": "https://localhost:8080/"
        },
        "outputId": "752a2d2b-8946-4146-bae8-5275e2b148d7"
      },
      "execution_count": 2,
      "outputs": [
        {
          "output_type": "stream",
          "name": "stdout",
          "text": [
            "Downloading data from https://storage.googleapis.com/tensorflow/tf-keras-datasets/mnist.npz\n",
            "11490434/11490434 [==============================] - 0s 0us/step\n"
          ]
        }
      ]
    },
    {
      "cell_type": "code",
      "source": [
        "# Lenghs of the data \n",
        "print(len(x_train), len(y_train))\n",
        "len(x_test), len(y_test)"
      ],
      "metadata": {
        "colab": {
          "base_uri": "https://localhost:8080/"
        },
        "id": "L9ZQ5hQeIwdB",
        "outputId": "4a391557-0376-4c8d-fb8f-5d4c9a1f065e"
      },
      "execution_count": 3,
      "outputs": [
        {
          "output_type": "stream",
          "name": "stdout",
          "text": [
            "60000 60000\n"
          ]
        },
        {
          "output_type": "execute_result",
          "data": {
            "text/plain": [
              "(10000, 10000)"
            ]
          },
          "metadata": {},
          "execution_count": 3
        }
      ]
    },
    {
      "cell_type": "code",
      "source": [
        "# Shape of data\n",
        "x_train.shape, y_train.shape"
      ],
      "metadata": {
        "colab": {
          "base_uri": "https://localhost:8080/"
        },
        "id": "I1QGlE9pR1TB",
        "outputId": "8b82ed6c-6da4-4af6-e890-5b2982fd87b8"
      },
      "execution_count": 4,
      "outputs": [
        {
          "output_type": "execute_result",
          "data": {
            "text/plain": [
              "((60000, 28, 28), (60000,))"
            ]
          },
          "metadata": {},
          "execution_count": 4
        }
      ]
    },
    {
      "cell_type": "code",
      "source": [
        "y_train[0]"
      ],
      "metadata": {
        "colab": {
          "base_uri": "https://localhost:8080/"
        },
        "id": "IJFCxbNiTAGY",
        "outputId": "45c95bbc-d4d3-4b16-e105-20e5973c1e8a"
      },
      "execution_count": 5,
      "outputs": [
        {
          "output_type": "execute_result",
          "data": {
            "text/plain": [
              "5"
            ]
          },
          "metadata": {},
          "execution_count": 5
        }
      ]
    },
    {
      "cell_type": "code",
      "source": [
        "# Visualize a random sample of the data\n",
        "random_index = random.randint(0, len(x_train))\n",
        "\n",
        "plt.imshow(x_train[random_index], cmap=\"gray\")\n",
        "plt.axis(False)\n",
        "plt.title(f\"Number: {y_train[random_index]}\")"
      ],
      "metadata": {
        "colab": {
          "base_uri": "https://localhost:8080/",
          "height": 281
        },
        "id": "aLGj9HzgHInn",
        "outputId": "890fd701-01f1-4f37-af78-000cce3b9d32"
      },
      "execution_count": 6,
      "outputs": [
        {
          "output_type": "execute_result",
          "data": {
            "text/plain": [
              "Text(0.5, 1.0, 'Number: 7')"
            ]
          },
          "metadata": {},
          "execution_count": 6
        },
        {
          "output_type": "display_data",
          "data": {
            "text/plain": [
              "<Figure size 432x288 with 1 Axes>"
            ],
            "image/png": "[encoded data removed]"
          },
          "metadata": {
            "needs_background": "light"
          }
        }
      ]
    },
    {
      "cell_type": "code",
      "source": [
        "# Map augment to the data, batch it, cache and prefetch\n",
        "x_train = x_train/255.\n",
        "x_test = x_test/255."
      ],
      "metadata": {
        "id": "YnWtBpDFNWnh"
      },
      "execution_count": 7,
      "outputs": []
    },
    {
      "cell_type": "code",
      "source": [
        "# Turn numpy arrays into tensorflow datasets\n",
        "train_data = tf.data.Dataset.from_tensor_slices((x_train, y_train))\n",
        "test_data = tf.data.Dataset.from_tensor_slices((x_test, y_test))"
      ],
      "metadata": {
        "id": "IbZr0LxGTLwr"
      },
      "execution_count": 18,
      "outputs": []
    },
    {
      "cell_type": "code",
      "source": [
        "# Batch data and shuffle x_train\n",
        "train_data = train_data.shuffle(100).batch(32)\n",
        "test_data = test_data.batch(32)"
      ],
      "metadata": {
        "id": "L1Yz3FreTrin"
      },
      "execution_count": 19,
      "outputs": []
    },
    {
      "cell_type": "markdown",
      "source": [
        "## Create model"
      ],
      "metadata": {
        "id": "RhFwrMLyPmm7"
      }
    },
    {
      "cell_type": "code",
      "source": [
        "# Using EfficientNetB0\n",
        "from tensorflow.keras import layers\n",
        "\n",
        "model = tf.keras.models.Sequential([\n",
        "    layers.Input(shape=(28, 28, 1), name=\"input_layer\", dtype=tf.float32),\n",
        "    layers.Convolution2D(filters=50, kernel_size=(3,3), padding=\"valid\", activation=\"relu\"),\n",
        "    layers.MaxPool2D(),\n",
        "    layers.Convolution2D(filters=25, kernel_size=(3,3), padding=\"valid\", activation=\"relu\"),\n",
        "    layers.MaxPool2D(),\n",
        "    layers.Convolution2D(filters=15, kernel_size=(3,3), padding=\"valid\", activation=\"relu\"),\n",
        "    layers.GlobalAveragePooling2D(),\n",
        "    layers.Dense(10, activation=\"softmax\", name=\"output_layer\")\n",
        "])"
      ],
      "metadata": {
        "id": "na6Gs7DwP5Nu"
      },
      "execution_count": 20,
      "outputs": []
    },
    {
      "cell_type": "code",
      "source": [
        "# model summary\n",
        "model.summary()"
      ],
      "metadata": {
        "colab": {
          "base_uri": "https://localhost:8080/"
        },
        "id": "d8SVDpvMQROB",
        "outputId": "3a539bd2-24f5-4f49-c5b1-a822fa49c254"
      },
      "execution_count": 21,
      "outputs": [
        {
          "output_type": "stream",
          "name": "stdout",
          "text": [
            "Model: \"sequential_1\"\n",
            "_________________________________________________________________\n",
            " Layer (type)                Output Shape              Param #   \n",
            "=================================================================\n",
            " conv2d_2 (Conv2D)           (None, 26, 26, 50)        500       \n",
            "                                                                 \n",
            " max_pooling2d_1 (MaxPooling  (None, 13, 13, 50)       0         \n",
            " 2D)                                                             \n",
            "                                                                 \n",
            " conv2d_3 (Conv2D)           (None, 11, 11, 25)        11275     \n",
            "                                                                 \n",
            " max_pooling2d_2 (MaxPooling  (None, 5, 5, 25)         0         \n",
            " 2D)                                                             \n",
            "                                                                 \n",
            " conv2d_4 (Conv2D)           (None, 3, 3, 15)          3390      \n",
            "                                                                 \n",
            " global_average_pooling2d_1   (None, 15)               0         \n",
            " (GlobalAveragePooling2D)                                        \n",
            "                                                                 \n",
            " output_layer (Dense)        (None, 10)                160       \n",
            "                                                                 \n",
            "=================================================================\n",
            "Total params: 15,325\n",
            "Trainable params: 15,325\n",
            "Non-trainable params: 0\n",
            "_________________________________________________________________\n"
          ]
        }
      ]
    },
    {
      "cell_type": "code",
      "source": [
        "# Compile the model\n",
        "model.compile(loss=tf.keras.losses.SparseCategoricalCrossentropy(),\n",
        "              optimizer=tf.keras.optimizers.Adam(),\n",
        "              metrics=[\"accuracy\"])"
      ],
      "metadata": {
        "id": "9I7_CxwSSsuB"
      },
      "execution_count": 22,
      "outputs": []
    },
    {
      "cell_type": "code",
      "source": [
        "# Create an EarlyStopping callback\n",
        "earlyStopping = tf.keras.callbacks.EarlyStopping(monitor=\"val_loss\",\n",
        "                                                 patience=3)"
      ],
      "metadata": {
        "id": "M4kNcnKe9UhC"
      },
      "execution_count": 23,
      "outputs": []
    },
    {
      "cell_type": "code",
      "source": [
        "# Fit the model\n",
        "model.fit(train_data,\n",
        "          epochs=20,\n",
        "          validation_data=test_data,\n",
        "          callbacks=[earlyStopping])"
      ],
      "metadata": {
        "id": "vU0bN2q4S5Lc",
        "colab": {
          "base_uri": "https://localhost:8080/"
        },
        "outputId": "8e086226-8d75-45c0-9fdd-2fea71ac6707"
      },
      "execution_count": 24,
      "outputs": [
        {
          "output_type": "stream",
          "name": "stdout",
          "text": [
            "Epoch 1/20\n",
            "1875/1875 [==============================] - 9s 4ms/step - loss: 0.4407 - accuracy: 0.8625 - val_loss: 0.1775 - val_accuracy: 0.9456\n",
            "Epoch 2/20\n",
            "1875/1875 [==============================] - 9s 5ms/step - loss: 0.1535 - accuracy: 0.9534 - val_loss: 0.1203 - val_accuracy: 0.9641\n",
            "Epoch 3/20\n",
            "1875/1875 [==============================] - 9s 5ms/step - loss: 0.1086 - accuracy: 0.9671 - val_loss: 0.0935 - val_accuracy: 0.9733\n",
            "Epoch 4/20\n",
            "1875/1875 [==============================] - 9s 5ms/step - loss: 0.0842 - accuracy: 0.9743 - val_loss: 0.0783 - val_accuracy: 0.9747\n",
            "Epoch 5/20\n",
            "1875/1875 [==============================] - 9s 5ms/step - loss: 0.0679 - accuracy: 0.9795 - val_loss: 0.0771 - val_accuracy: 0.9764\n",
            "Epoch 6/20\n",
            "1875/1875 [==============================] - 9s 5ms/step - loss: 0.0576 - accuracy: 0.9826 - val_loss: 0.0570 - val_accuracy: 0.9813\n",
            "Epoch 7/20\n",
            "1875/1875 [==============================] - 9s 5ms/step - loss: 0.0491 - accuracy: 0.9851 - val_loss: 0.0557 - val_accuracy: 0.9817\n",
            "Epoch 8/20\n",
            "1875/1875 [==============================] - 9s 5ms/step - loss: 0.0427 - accuracy: 0.9871 - val_loss: 0.0529 - val_accuracy: 0.9830\n",
            "Epoch 9/20\n",
            "1875/1875 [==============================] - 8s 4ms/step - loss: 0.0384 - accuracy: 0.9880 - val_loss: 0.0503 - val_accuracy: 0.9829\n",
            "Epoch 10/20\n",
            "1875/1875 [==============================] - 9s 5ms/step - loss: 0.0347 - accuracy: 0.9893 - val_loss: 0.0600 - val_accuracy: 0.9817\n",
            "Epoch 11/20\n",
            "1875/1875 [==============================] - 9s 5ms/step - loss: 0.0316 - accuracy: 0.9901 - val_loss: 0.0449 - val_accuracy: 0.9859\n",
            "Epoch 12/20\n",
            "1875/1875 [==============================] - 9s 5ms/step - loss: 0.0294 - accuracy: 0.9907 - val_loss: 0.0487 - val_accuracy: 0.9850\n",
            "Epoch 13/20\n",
            "1875/1875 [==============================] - 9s 5ms/step - loss: 0.0266 - accuracy: 0.9916 - val_loss: 0.0464 - val_accuracy: 0.9858\n",
            "Epoch 14/20\n",
            "1875/1875 [==============================] - 8s 4ms/step - loss: 0.0245 - accuracy: 0.9926 - val_loss: 0.0478 - val_accuracy: 0.9847\n"
          ]
        },
        {
          "output_type": "execute_result",
          "data": {
            "text/plain": [
              "<keras.callbacks.History at 0x7fcaf23865b0>"
            ]
          },
          "metadata": {},
          "execution_count": 24
        }
      ]
    },
    {
      "cell_type": "code",
      "source": [
        "# Evaluate on test_data\n",
        "model.evaluate(test_data)"
      ],
      "metadata": {
        "colab": {
          "base_uri": "https://localhost:8080/"
        },
        "id": "IJvyCh2nPuaY",
        "outputId": "33c4ae66-32ec-46e5-d3d3-0b03e823059b"
      },
      "execution_count": 25,
      "outputs": [
        {
          "output_type": "stream",
          "name": "stdout",
          "text": [
            "313/313 [==============================] - 1s 3ms/step - loss: 0.0478 - accuracy: 0.9847\n"
          ]
        },
        {
          "output_type": "execute_result",
          "data": {
            "text/plain": [
              "[0.047822486609220505, 0.9847000241279602]"
            ]
          },
          "metadata": {},
          "execution_count": 25
        }
      ]
    },
    {
      "cell_type": "code",
      "source": [
        "# Save the model\n",
        "model.save(\"Mnist_model\")"
      ],
      "metadata": {
        "colab": {
          "base_uri": "https://localhost:8080/"
        },
        "id": "sxqNMe7U9-Pm",
        "outputId": "44a3c68e-362f-4d20-df1d-3b11e3f6a16a"
      },
      "execution_count": 26,
      "outputs": [
        {
          "output_type": "stream",
          "name": "stderr",
          "text": [
            "WARNING:absl:Found untraced functions such as _jit_compiled_convolution_op, _jit_compiled_convolution_op, _jit_compiled_convolution_op while saving (showing 3 of 3). These functions will not be directly callable after loading.\n"
          ]
        }
      ]
    },
    {
      "cell_type": "code",
      "source": [
        "# Function to predict on an image\n",
        "def pred_and_plot(model, image):\n",
        "  model_pred_probs = model.predict(tf.expand_dims(image, axis=0))\n",
        "  print(model_pred_probs)\n",
        "  model_pred = tf.argmax(tf.squeeze(model_pred_probs))\n",
        "\n",
        "  plt.imshow(image, cmap=\"gray\")\n",
        "  plt.title(f\"Prediction: {model_pred}\")\n",
        "  plt.axis(False)\n"
      ],
      "metadata": {
        "id": "Ryo-JbqgcBEU"
      },
      "execution_count": 39,
      "outputs": []
    },
    {
      "cell_type": "code",
      "source": [
        "# Test the model on random images\n",
        "random_index = random.randint(0, len(x_test))\n",
        "pred_and_plot(model, x_test[random_index])"
      ],
      "metadata": {
        "colab": {
          "base_uri": "https://localhost:8080/",
          "height": 316
        },
        "id": "VryOXCjeYW88",
        "outputId": "4abaca4f-15d6-4f9a-db18-0634f211e672"
      },
      "execution_count": 50,
      "outputs": [
        {
          "output_type": "stream",
          "name": "stdout",
          "text": [
            "1/1 [==============================] - 0s 17ms/step\n",
            "[[2.3178059e-09 1.9816941e-15 2.6291579e-14 2.7717086e-08 2.5947931e-14\n",
            "  9.9999976e-01 7.7390830e-08 9.4972419e-18 1.0243121e-07 2.9881859e-09]]\n"
          ]
        },
        {
          "output_type": "display_data",
          "data": {
            "text/plain": [
              "<Figure size 432x288 with 1 Axes>"
            ],
            "image/png": "[encoded data removed]"
          },
          "metadata": {
            "needs_background": "light"
          }
        }
      ]
    },
    {
      "cell_type": "code",
      "source": [],
      "metadata": {
        "id": "IoFZ5IKbYhsB"
      },
      "execution_count": 40,
      "outputs": []
    }
  ]
}